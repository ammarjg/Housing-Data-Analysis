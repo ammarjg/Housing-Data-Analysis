{
 "cells": [
  {
   "cell_type": "markdown",
   "id": "7c2559ba",
   "metadata": {},
   "source": [
    "# Housing Data Analysis"
   ]
  },
  {
   "cell_type": "markdown",
   "id": "4c0f9051",
   "metadata": {},
   "source": [
    "This notebook provides a step-by-step analysis of a housing dataset, including data understanding, manipulation, and visualization using R libraries such as `dplyr` and `ggplot2`."
   ]
  },
  {
   "cell_type": "markdown",
   "id": "59bddabf",
   "metadata": {},
   "source": [
    "## 1. Data Import"
   ]
  },
  {
   "cell_type": "code",
   "execution_count": 1,
   "id": "8df3b66a",
   "metadata": {},
   "outputs": [
    {
     "name": "stderr",
     "output_type": "stream",
     "text": [
      "Warning message:\n",
      "\"package 'dplyr' was built under R version 4.3.3\"\n",
      "\n",
      "Attaching package: 'dplyr'\n",
      "\n",
      "\n",
      "The following objects are masked from 'package:stats':\n",
      "\n",
      "    filter, lag\n",
      "\n",
      "\n",
      "The following objects are masked from 'package:base':\n",
      "\n",
      "    intersect, setdiff, setequal, union\n",
      "\n",
      "\n",
      "Warning message:\n",
      "\"package 'ggplot2' was built under R version 4.3.2\"\n"
     ]
    },
    {
     "data": {
      "text/html": [
       "<table class=\"dataframe\">\n",
       "<caption>A data.frame: 6 × 13</caption>\n",
       "<thead>\n",
       "\t<tr><th></th><th scope=col>price</th><th scope=col>area</th><th scope=col>bedrooms</th><th scope=col>bathrooms</th><th scope=col>stories</th><th scope=col>mainroad</th><th scope=col>guestroom</th><th scope=col>basement</th><th scope=col>hotwaterheating</th><th scope=col>airconditioning</th><th scope=col>parking</th><th scope=col>prefarea</th><th scope=col>furnishingstatus</th></tr>\n",
       "\t<tr><th></th><th scope=col>&lt;int&gt;</th><th scope=col>&lt;int&gt;</th><th scope=col>&lt;int&gt;</th><th scope=col>&lt;int&gt;</th><th scope=col>&lt;int&gt;</th><th scope=col>&lt;chr&gt;</th><th scope=col>&lt;chr&gt;</th><th scope=col>&lt;chr&gt;</th><th scope=col>&lt;chr&gt;</th><th scope=col>&lt;chr&gt;</th><th scope=col>&lt;int&gt;</th><th scope=col>&lt;chr&gt;</th><th scope=col>&lt;chr&gt;</th></tr>\n",
       "</thead>\n",
       "<tbody>\n",
       "\t<tr><th scope=row>1</th><td>13300000</td><td>7420</td><td>4</td><td>2</td><td>3</td><td>yes</td><td>no </td><td>no </td><td>no</td><td>yes</td><td>2</td><td>yes</td><td>furnished     </td></tr>\n",
       "\t<tr><th scope=row>2</th><td>12250000</td><td>8960</td><td>4</td><td>4</td><td>4</td><td>yes</td><td>no </td><td>no </td><td>no</td><td>yes</td><td>3</td><td>no </td><td>furnished     </td></tr>\n",
       "\t<tr><th scope=row>3</th><td>12250000</td><td>9960</td><td>3</td><td>2</td><td>2</td><td>yes</td><td>no </td><td>yes</td><td>no</td><td>no </td><td>2</td><td>yes</td><td>semi-furnished</td></tr>\n",
       "\t<tr><th scope=row>4</th><td>12215000</td><td>7500</td><td>4</td><td>2</td><td>2</td><td>yes</td><td>no </td><td>yes</td><td>no</td><td>yes</td><td>3</td><td>yes</td><td>furnished     </td></tr>\n",
       "\t<tr><th scope=row>5</th><td>11410000</td><td>7420</td><td>4</td><td>1</td><td>2</td><td>yes</td><td>yes</td><td>yes</td><td>no</td><td>yes</td><td>2</td><td>no </td><td>furnished     </td></tr>\n",
       "\t<tr><th scope=row>6</th><td>10850000</td><td>7500</td><td>3</td><td>3</td><td>1</td><td>yes</td><td>no </td><td>yes</td><td>no</td><td>yes</td><td>2</td><td>yes</td><td>semi-furnished</td></tr>\n",
       "</tbody>\n",
       "</table>\n"
      ],
      "text/latex": [
       "A data.frame: 6 × 13\n",
       "\\begin{tabular}{r|lllllllllllll}\n",
       "  & price & area & bedrooms & bathrooms & stories & mainroad & guestroom & basement & hotwaterheating & airconditioning & parking & prefarea & furnishingstatus\\\\\n",
       "  & <int> & <int> & <int> & <int> & <int> & <chr> & <chr> & <chr> & <chr> & <chr> & <int> & <chr> & <chr>\\\\\n",
       "\\hline\n",
       "\t1 & 13300000 & 7420 & 4 & 2 & 3 & yes & no  & no  & no & yes & 2 & yes & furnished     \\\\\n",
       "\t2 & 12250000 & 8960 & 4 & 4 & 4 & yes & no  & no  & no & yes & 3 & no  & furnished     \\\\\n",
       "\t3 & 12250000 & 9960 & 3 & 2 & 2 & yes & no  & yes & no & no  & 2 & yes & semi-furnished\\\\\n",
       "\t4 & 12215000 & 7500 & 4 & 2 & 2 & yes & no  & yes & no & yes & 3 & yes & furnished     \\\\\n",
       "\t5 & 11410000 & 7420 & 4 & 1 & 2 & yes & yes & yes & no & yes & 2 & no  & furnished     \\\\\n",
       "\t6 & 10850000 & 7500 & 3 & 3 & 1 & yes & no  & yes & no & yes & 2 & yes & semi-furnished\\\\\n",
       "\\end{tabular}\n"
      ],
      "text/markdown": [
       "\n",
       "A data.frame: 6 × 13\n",
       "\n",
       "| <!--/--> | price &lt;int&gt; | area &lt;int&gt; | bedrooms &lt;int&gt; | bathrooms &lt;int&gt; | stories &lt;int&gt; | mainroad &lt;chr&gt; | guestroom &lt;chr&gt; | basement &lt;chr&gt; | hotwaterheating &lt;chr&gt; | airconditioning &lt;chr&gt; | parking &lt;int&gt; | prefarea &lt;chr&gt; | furnishingstatus &lt;chr&gt; |\n",
       "|---|---|---|---|---|---|---|---|---|---|---|---|---|---|\n",
       "| 1 | 13300000 | 7420 | 4 | 2 | 3 | yes | no  | no  | no | yes | 2 | yes | furnished      |\n",
       "| 2 | 12250000 | 8960 | 4 | 4 | 4 | yes | no  | no  | no | yes | 3 | no  | furnished      |\n",
       "| 3 | 12250000 | 9960 | 3 | 2 | 2 | yes | no  | yes | no | no  | 2 | yes | semi-furnished |\n",
       "| 4 | 12215000 | 7500 | 4 | 2 | 2 | yes | no  | yes | no | yes | 3 | yes | furnished      |\n",
       "| 5 | 11410000 | 7420 | 4 | 1 | 2 | yes | yes | yes | no | yes | 2 | no  | furnished      |\n",
       "| 6 | 10850000 | 7500 | 3 | 3 | 1 | yes | no  | yes | no | yes | 2 | yes | semi-furnished |\n",
       "\n"
      ],
      "text/plain": [
       "  price    area bedrooms bathrooms stories mainroad guestroom basement\n",
       "1 13300000 7420 4        2         3       yes      no        no      \n",
       "2 12250000 8960 4        4         4       yes      no        no      \n",
       "3 12250000 9960 3        2         2       yes      no        yes     \n",
       "4 12215000 7500 4        2         2       yes      no        yes     \n",
       "5 11410000 7420 4        1         2       yes      yes       yes     \n",
       "6 10850000 7500 3        3         1       yes      no        yes     \n",
       "  hotwaterheating airconditioning parking prefarea furnishingstatus\n",
       "1 no              yes             2       yes      furnished       \n",
       "2 no              yes             3       no       furnished       \n",
       "3 no              no              2       yes      semi-furnished  \n",
       "4 no              yes             3       yes      furnished       \n",
       "5 no              yes             2       no       furnished       \n",
       "6 no              yes             2       yes      semi-furnished  "
      ]
     },
     "metadata": {},
     "output_type": "display_data"
    }
   ],
   "source": [
    "\n",
    "# Load the necessary libraries\n",
    "library(dplyr)\n",
    "library(ggplot2)\n",
    "\n",
    "# Load the dataset\n",
    "housing_data <- read.csv(\"Housing.csv\")\n",
    "head(housing_data)\n"
   ]
  },
  {
   "cell_type": "markdown",
   "id": "7271b0dc",
   "metadata": {},
   "source": [
    "In this section, we load the housing dataset into R using the `read.csv` function."
   ]
  },
  {
   "cell_type": "markdown",
   "id": "d5abbd5b",
   "metadata": {},
   "source": [
    "## 2. Data Understanding and Exploration"
   ]
  },
  {
   "cell_type": "code",
   "execution_count": 2,
   "id": "a734a796",
   "metadata": {},
   "outputs": [
    {
     "name": "stdout",
     "output_type": "stream",
     "text": [
      "'data.frame':\t545 obs. of  13 variables:\n",
      " $ price           : int  13300000 12250000 12250000 12215000 11410000 10850000 10150000 10150000 9870000 9800000 ...\n",
      " $ area            : int  7420 8960 9960 7500 7420 7500 8580 16200 8100 5750 ...\n",
      " $ bedrooms        : int  4 4 3 4 4 3 4 5 4 3 ...\n",
      " $ bathrooms       : int  2 4 2 2 1 3 3 3 1 2 ...\n",
      " $ stories         : int  3 4 2 2 2 1 4 2 2 4 ...\n",
      " $ mainroad        : chr  \"yes\" \"yes\" \"yes\" \"yes\" ...\n",
      " $ guestroom       : chr  \"no\" \"no\" \"no\" \"no\" ...\n",
      " $ basement        : chr  \"no\" \"no\" \"yes\" \"yes\" ...\n",
      " $ hotwaterheating : chr  \"no\" \"no\" \"no\" \"no\" ...\n",
      " $ airconditioning : chr  \"yes\" \"yes\" \"no\" \"yes\" ...\n",
      " $ parking         : int  2 3 2 3 2 2 2 0 2 1 ...\n",
      " $ prefarea        : chr  \"yes\" \"no\" \"yes\" \"yes\" ...\n",
      " $ furnishingstatus: chr  \"furnished\" \"furnished\" \"semi-furnished\" \"furnished\" ...\n"
     ]
    },
    {
     "data": {
      "text/html": [
       "<style>\n",
       ".list-inline {list-style: none; margin:0; padding: 0}\n",
       ".list-inline>li {display: inline-block}\n",
       ".list-inline>li:not(:last-child)::after {content: \"\\00b7\"; padding: 0 .5ex}\n",
       "</style>\n",
       "<ol class=list-inline><li>545</li><li>13</li></ol>\n"
      ],
      "text/latex": [
       "\\begin{enumerate*}\n",
       "\\item 545\n",
       "\\item 13\n",
       "\\end{enumerate*}\n"
      ],
      "text/markdown": [
       "1. 545\n",
       "2. 13\n",
       "\n",
       "\n"
      ],
      "text/plain": [
       "[1] 545  13"
      ]
     },
     "metadata": {},
     "output_type": "display_data"
    }
   ],
   "source": [
    "\n",
    "# Check the structure of the dataset\n",
    "str(housing_data)\n",
    "\n",
    "# Check the number of rows and columns\n",
    "dim(housing_data)\n"
   ]
  },
  {
   "cell_type": "markdown",
   "id": "265064f1",
   "metadata": {},
   "source": [
    "We explore the structure of the dataset using `str()` to understand the data types and check the dimensions with `dim()`."
   ]
  },
  {
   "cell_type": "markdown",
   "id": "cfb6b189",
   "metadata": {},
   "source": [
    "## 3. Data Analysis: Summary Statistics"
   ]
  },
  {
   "cell_type": "code",
   "execution_count": 3,
   "id": "3fb8f23a",
   "metadata": {},
   "outputs": [
    {
     "data": {
      "text/plain": [
       "     price               area          bedrooms       bathrooms    \n",
       " Min.   : 1750000   Min.   : 1650   Min.   :1.000   Min.   :1.000  \n",
       " 1st Qu.: 3430000   1st Qu.: 3600   1st Qu.:2.000   1st Qu.:1.000  \n",
       " Median : 4340000   Median : 4600   Median :3.000   Median :1.000  \n",
       " Mean   : 4766729   Mean   : 5151   Mean   :2.965   Mean   :1.286  \n",
       " 3rd Qu.: 5740000   3rd Qu.: 6360   3rd Qu.:3.000   3rd Qu.:2.000  \n",
       " Max.   :13300000   Max.   :16200   Max.   :6.000   Max.   :4.000  \n",
       "    stories        mainroad          guestroom           basement        \n",
       " Min.   :1.000   Length:545         Length:545         Length:545        \n",
       " 1st Qu.:1.000   Class :character   Class :character   Class :character  \n",
       " Median :2.000   Mode  :character   Mode  :character   Mode  :character  \n",
       " Mean   :1.806                                                           \n",
       " 3rd Qu.:2.000                                                           \n",
       " Max.   :4.000                                                           \n",
       " hotwaterheating    airconditioning       parking         prefarea        \n",
       " Length:545         Length:545         Min.   :0.0000   Length:545        \n",
       " Class :character   Class :character   1st Qu.:0.0000   Class :character  \n",
       " Mode  :character   Mode  :character   Median :0.0000   Mode  :character  \n",
       "                                       Mean   :0.6936                     \n",
       "                                       3rd Qu.:1.0000                     \n",
       "                                       Max.   :3.0000                     \n",
       " furnishingstatus  \n",
       " Length:545        \n",
       " Class :character  \n",
       " Mode  :character  \n",
       "                   \n",
       "                   \n",
       "                   "
      ]
     },
     "metadata": {},
     "output_type": "display_data"
    }
   ],
   "source": [
    "\n",
    "# Generate summary statistics for numerical variables\n",
    "summary(housing_data)\n"
   ]
  },
  {
   "cell_type": "markdown",
   "id": "3b4f3c03",
   "metadata": {},
   "source": [
    "We generate summary statistics for the numerical variables in the dataset using the `summary()` function."
   ]
  },
  {
   "cell_type": "markdown",
   "id": "86c17cd1",
   "metadata": {},
   "source": [
    "## 4. Data Visualization: Distribution of Area (Histogram)"
   ]
  },
  {
   "cell_type": "code",
   "execution_count": 4,
   "id": "c575602a",
   "metadata": {},
   "outputs": [
    {
     "data": {
      "image/png": "[encoded data removed]",
      "text/plain": [
       "plot without title"
      ]
     },
     "metadata": {
      "image/png": {
       "height": 420,
       "width": 420
      }
     },
     "output_type": "display_data"
    }
   ],
   "source": [
    "\n",
    "# Create a histogram to visualize the distribution of the 'area' variable\n",
    "ggplot(housing_data, aes(x=area)) + \n",
    "  geom_histogram(binwidth=500, fill=\"blue\", color=\"black\") +\n",
    "  labs(title=\"Distribution of Area\", x=\"Area\", y=\"Frequency\")\n"
   ]
  },
  {
   "cell_type": "markdown",
   "id": "9f5d9cfb",
   "metadata": {},
   "source": [
    "We use `ggplot2` to create a histogram of the 'area' variable to visualize its distribution."
   ]
  },
  {
   "cell_type": "markdown",
   "id": "b6c04a80",
   "metadata": {},
   "source": [
    "## 5. Data Visualization: Scatter Plot (Price vs Area)"
   ]
  },
  {
   "cell_type": "code",
   "execution_count": 5,
   "id": "959144f3",
   "metadata": {},
   "outputs": [
    {
     "data": {
      "image/png": "[encoded data removed]",
      "text/plain": [
       "Plot with title \"Price vs Area\""
      ]
     },
     "metadata": {
      "image/png": {
       "height": 420,
       "width": 420
      }
     },
     "output_type": "display_data"
    }
   ],
   "source": [
    "\n",
    "# Create a scatter plot to visualize the relationship between 'price' and 'area'\n",
    "plot(housing_data$area, housing_data$price,\n",
    "     main=\"Price vs Area\",\n",
    "     xlab=\"Area\",\n",
    "     ylab=\"Price\",\n",
    "     pch=19,\n",
    "     col=\"blue\")\n"
   ]
  },
  {
   "cell_type": "markdown",
   "id": "fd71197f",
   "metadata": {},
   "source": [
    "We use the base R `plot()` function to create a scatter plot to explore the relationship between 'price' and 'area'."
   ]
  },
  {
   "cell_type": "markdown",
   "id": "ace7a73e",
   "metadata": {},
   "source": [
    "## 6. Data Manipulation with dplyr"
   ]
  },
  {
   "cell_type": "code",
   "execution_count": 6,
   "id": "91328366",
   "metadata": {},
   "outputs": [
    {
     "data": {
      "text/html": [
       "<table class=\"dataframe\">\n",
       "<caption>A data.frame: 6 × 13</caption>\n",
       "<thead>\n",
       "\t<tr><th></th><th scope=col>price</th><th scope=col>area</th><th scope=col>bedrooms</th><th scope=col>bathrooms</th><th scope=col>stories</th><th scope=col>mainroad</th><th scope=col>guestroom</th><th scope=col>basement</th><th scope=col>hotwaterheating</th><th scope=col>airconditioning</th><th scope=col>parking</th><th scope=col>prefarea</th><th scope=col>furnishingstatus</th></tr>\n",
       "\t<tr><th></th><th scope=col>&lt;int&gt;</th><th scope=col>&lt;int&gt;</th><th scope=col>&lt;int&gt;</th><th scope=col>&lt;int&gt;</th><th scope=col>&lt;int&gt;</th><th scope=col>&lt;chr&gt;</th><th scope=col>&lt;chr&gt;</th><th scope=col>&lt;chr&gt;</th><th scope=col>&lt;chr&gt;</th><th scope=col>&lt;chr&gt;</th><th scope=col>&lt;int&gt;</th><th scope=col>&lt;chr&gt;</th><th scope=col>&lt;chr&gt;</th></tr>\n",
       "</thead>\n",
       "<tbody>\n",
       "\t<tr><th scope=row>1</th><td>12250000</td><td> 8960</td><td>4</td><td>4</td><td>4</td><td>yes</td><td>no </td><td>no </td><td>no </td><td>yes</td><td>3</td><td>no </td><td>furnished     </td></tr>\n",
       "\t<tr><th scope=row>2</th><td>10850000</td><td> 7500</td><td>3</td><td>3</td><td>1</td><td>yes</td><td>no </td><td>yes</td><td>no </td><td>yes</td><td>2</td><td>yes</td><td>semi-furnished</td></tr>\n",
       "\t<tr><th scope=row>3</th><td>10150000</td><td> 8580</td><td>4</td><td>3</td><td>4</td><td>yes</td><td>no </td><td>no </td><td>no </td><td>yes</td><td>2</td><td>yes</td><td>semi-furnished</td></tr>\n",
       "\t<tr><th scope=row>4</th><td>10150000</td><td>16200</td><td>5</td><td>3</td><td>2</td><td>yes</td><td>no </td><td>no </td><td>no </td><td>no </td><td>0</td><td>no </td><td>unfurnished   </td></tr>\n",
       "\t<tr><th scope=row>5</th><td> 9681000</td><td> 6000</td><td>4</td><td>3</td><td>2</td><td>yes</td><td>yes</td><td>yes</td><td>yes</td><td>no </td><td>2</td><td>no </td><td>semi-furnished</td></tr>\n",
       "\t<tr><th scope=row>6</th><td> 8190000</td><td> 5960</td><td>3</td><td>3</td><td>2</td><td>yes</td><td>yes</td><td>yes</td><td>no </td><td>no </td><td>1</td><td>no </td><td>unfurnished   </td></tr>\n",
       "</tbody>\n",
       "</table>\n"
      ],
      "text/latex": [
       "A data.frame: 6 × 13\n",
       "\\begin{tabular}{r|lllllllllllll}\n",
       "  & price & area & bedrooms & bathrooms & stories & mainroad & guestroom & basement & hotwaterheating & airconditioning & parking & prefarea & furnishingstatus\\\\\n",
       "  & <int> & <int> & <int> & <int> & <int> & <chr> & <chr> & <chr> & <chr> & <chr> & <int> & <chr> & <chr>\\\\\n",
       "\\hline\n",
       "\t1 & 12250000 &  8960 & 4 & 4 & 4 & yes & no  & no  & no  & yes & 3 & no  & furnished     \\\\\n",
       "\t2 & 10850000 &  7500 & 3 & 3 & 1 & yes & no  & yes & no  & yes & 2 & yes & semi-furnished\\\\\n",
       "\t3 & 10150000 &  8580 & 4 & 3 & 4 & yes & no  & no  & no  & yes & 2 & yes & semi-furnished\\\\\n",
       "\t4 & 10150000 & 16200 & 5 & 3 & 2 & yes & no  & no  & no  & no  & 0 & no  & unfurnished   \\\\\n",
       "\t5 &  9681000 &  6000 & 4 & 3 & 2 & yes & yes & yes & yes & no  & 2 & no  & semi-furnished\\\\\n",
       "\t6 &  8190000 &  5960 & 3 & 3 & 2 & yes & yes & yes & no  & no  & 1 & no  & unfurnished   \\\\\n",
       "\\end{tabular}\n"
      ],
      "text/markdown": [
       "\n",
       "A data.frame: 6 × 13\n",
       "\n",
       "| <!--/--> | price &lt;int&gt; | area &lt;int&gt; | bedrooms &lt;int&gt; | bathrooms &lt;int&gt; | stories &lt;int&gt; | mainroad &lt;chr&gt; | guestroom &lt;chr&gt; | basement &lt;chr&gt; | hotwaterheating &lt;chr&gt; | airconditioning &lt;chr&gt; | parking &lt;int&gt; | prefarea &lt;chr&gt; | furnishingstatus &lt;chr&gt; |\n",
       "|---|---|---|---|---|---|---|---|---|---|---|---|---|---|\n",
       "| 1 | 12250000 |  8960 | 4 | 4 | 4 | yes | no  | no  | no  | yes | 3 | no  | furnished      |\n",
       "| 2 | 10850000 |  7500 | 3 | 3 | 1 | yes | no  | yes | no  | yes | 2 | yes | semi-furnished |\n",
       "| 3 | 10150000 |  8580 | 4 | 3 | 4 | yes | no  | no  | no  | yes | 2 | yes | semi-furnished |\n",
       "| 4 | 10150000 | 16200 | 5 | 3 | 2 | yes | no  | no  | no  | no  | 0 | no  | unfurnished    |\n",
       "| 5 |  9681000 |  6000 | 4 | 3 | 2 | yes | yes | yes | yes | no  | 2 | no  | semi-furnished |\n",
       "| 6 |  8190000 |  5960 | 3 | 3 | 2 | yes | yes | yes | no  | no  | 1 | no  | unfurnished    |\n",
       "\n"
      ],
      "text/plain": [
       "  price    area  bedrooms bathrooms stories mainroad guestroom basement\n",
       "1 12250000  8960 4        4         4       yes      no        no      \n",
       "2 10850000  7500 3        3         1       yes      no        yes     \n",
       "3 10150000  8580 4        3         4       yes      no        no      \n",
       "4 10150000 16200 5        3         2       yes      no        no      \n",
       "5  9681000  6000 4        3         2       yes      yes       yes     \n",
       "6  8190000  5960 3        3         2       yes      yes       yes     \n",
       "  hotwaterheating airconditioning parking prefarea furnishingstatus\n",
       "1 no              yes             3       no       furnished       \n",
       "2 no              yes             2       yes      semi-furnished  \n",
       "3 no              yes             2       yes      semi-furnished  \n",
       "4 no              no              0       no       unfurnished     \n",
       "5 yes             no              2       no       semi-furnished  \n",
       "6 no              no              1       no       unfurnished     "
      ]
     },
     "metadata": {},
     "output_type": "display_data"
    }
   ],
   "source": [
    "\n",
    "# Filter dataset to include only houses with more than 2 bathrooms\n",
    "filtered_data <- filter(housing_data, bathrooms > 2)\n",
    "head(filtered_data)\n"
   ]
  },
  {
   "cell_type": "markdown",
   "id": "79c481cf",
   "metadata": {},
   "source": [
    "We use `dplyr` to filter the dataset, keeping only houses with more than 2 bathrooms."
   ]
  },
  {
   "cell_type": "markdown",
   "id": "f2e081c6",
   "metadata": {},
   "source": [
    "## 7. Grouping and Summarizing Data"
   ]
  },
  {
   "cell_type": "code",
   "execution_count": 7,
   "id": "ab042488",
   "metadata": {},
   "outputs": [
    {
     "data": {
      "text/html": [
       "<table class=\"dataframe\">\n",
       "<caption>A tibble: 3 × 2</caption>\n",
       "<thead>\n",
       "\t<tr><th scope=col>furnishingstatus</th><th scope=col>mean_price</th></tr>\n",
       "\t<tr><th scope=col>&lt;chr&gt;</th><th scope=col>&lt;dbl&gt;</th></tr>\n",
       "</thead>\n",
       "<tbody>\n",
       "\t<tr><td>furnished     </td><td>5495696</td></tr>\n",
       "\t<tr><td>semi-furnished</td><td>4907524</td></tr>\n",
       "\t<tr><td>unfurnished   </td><td>4013831</td></tr>\n",
       "</tbody>\n",
       "</table>\n"
      ],
      "text/latex": [
       "A tibble: 3 × 2\n",
       "\\begin{tabular}{ll}\n",
       " furnishingstatus & mean\\_price\\\\\n",
       " <chr> & <dbl>\\\\\n",
       "\\hline\n",
       "\t furnished      & 5495696\\\\\n",
       "\t semi-furnished & 4907524\\\\\n",
       "\t unfurnished    & 4013831\\\\\n",
       "\\end{tabular}\n"
      ],
      "text/markdown": [
       "\n",
       "A tibble: 3 × 2\n",
       "\n",
       "| furnishingstatus &lt;chr&gt; | mean_price &lt;dbl&gt; |\n",
       "|---|---|\n",
       "| furnished      | 5495696 |\n",
       "| semi-furnished | 4907524 |\n",
       "| unfurnished    | 4013831 |\n",
       "\n"
      ],
      "text/plain": [
       "  furnishingstatus mean_price\n",
       "1 furnished        5495696   \n",
       "2 semi-furnished   4907524   \n",
       "3 unfurnished      4013831   "
      ]
     },
     "metadata": {},
     "output_type": "display_data"
    }
   ],
   "source": [
    "\n",
    "# Group by 'furnishingstatus' and calculate the mean price for each group\n",
    "grouped_data <- housing_data %>%\n",
    "  group_by(furnishingstatus) %>%\n",
    "  summarize(mean_price = mean(price))\n",
    "grouped_data\n"
   ]
  },
  {
   "cell_type": "markdown",
   "id": "03b0f5bd",
   "metadata": {},
   "source": [
    "We group the data by the 'furnishingstatus' column and calculate the mean price for each furnishing status using `dplyr`."
   ]
  },
  {
   "cell_type": "markdown",
   "id": "f9bde9a4",
   "metadata": {},
   "source": [
    "## 8. Data Sorting"
   ]
  },
  {
   "cell_type": "code",
   "execution_count": 8,
   "id": "9864d18d",
   "metadata": {},
   "outputs": [
    {
     "data": {
      "text/html": [
       "<table class=\"dataframe\">\n",
       "<caption>A data.frame: 6 × 13</caption>\n",
       "<thead>\n",
       "\t<tr><th></th><th scope=col>price</th><th scope=col>area</th><th scope=col>bedrooms</th><th scope=col>bathrooms</th><th scope=col>stories</th><th scope=col>mainroad</th><th scope=col>guestroom</th><th scope=col>basement</th><th scope=col>hotwaterheating</th><th scope=col>airconditioning</th><th scope=col>parking</th><th scope=col>prefarea</th><th scope=col>furnishingstatus</th></tr>\n",
       "\t<tr><th></th><th scope=col>&lt;int&gt;</th><th scope=col>&lt;int&gt;</th><th scope=col>&lt;int&gt;</th><th scope=col>&lt;int&gt;</th><th scope=col>&lt;int&gt;</th><th scope=col>&lt;chr&gt;</th><th scope=col>&lt;chr&gt;</th><th scope=col>&lt;chr&gt;</th><th scope=col>&lt;chr&gt;</th><th scope=col>&lt;chr&gt;</th><th scope=col>&lt;int&gt;</th><th scope=col>&lt;chr&gt;</th><th scope=col>&lt;chr&gt;</th></tr>\n",
       "</thead>\n",
       "<tbody>\n",
       "\t<tr><th scope=row>1</th><td>13300000</td><td>7420</td><td>4</td><td>2</td><td>3</td><td>yes</td><td>no </td><td>no </td><td>no</td><td>yes</td><td>2</td><td>yes</td><td>furnished     </td></tr>\n",
       "\t<tr><th scope=row>2</th><td>12250000</td><td>8960</td><td>4</td><td>4</td><td>4</td><td>yes</td><td>no </td><td>no </td><td>no</td><td>yes</td><td>3</td><td>no </td><td>furnished     </td></tr>\n",
       "\t<tr><th scope=row>3</th><td>12250000</td><td>9960</td><td>3</td><td>2</td><td>2</td><td>yes</td><td>no </td><td>yes</td><td>no</td><td>no </td><td>2</td><td>yes</td><td>semi-furnished</td></tr>\n",
       "\t<tr><th scope=row>4</th><td>12215000</td><td>7500</td><td>4</td><td>2</td><td>2</td><td>yes</td><td>no </td><td>yes</td><td>no</td><td>yes</td><td>3</td><td>yes</td><td>furnished     </td></tr>\n",
       "\t<tr><th scope=row>5</th><td>11410000</td><td>7420</td><td>4</td><td>1</td><td>2</td><td>yes</td><td>yes</td><td>yes</td><td>no</td><td>yes</td><td>2</td><td>no </td><td>furnished     </td></tr>\n",
       "\t<tr><th scope=row>6</th><td>10850000</td><td>7500</td><td>3</td><td>3</td><td>1</td><td>yes</td><td>no </td><td>yes</td><td>no</td><td>yes</td><td>2</td><td>yes</td><td>semi-furnished</td></tr>\n",
       "</tbody>\n",
       "</table>\n"
      ],
      "text/latex": [
       "A data.frame: 6 × 13\n",
       "\\begin{tabular}{r|lllllllllllll}\n",
       "  & price & area & bedrooms & bathrooms & stories & mainroad & guestroom & basement & hotwaterheating & airconditioning & parking & prefarea & furnishingstatus\\\\\n",
       "  & <int> & <int> & <int> & <int> & <int> & <chr> & <chr> & <chr> & <chr> & <chr> & <int> & <chr> & <chr>\\\\\n",
       "\\hline\n",
       "\t1 & 13300000 & 7420 & 4 & 2 & 3 & yes & no  & no  & no & yes & 2 & yes & furnished     \\\\\n",
       "\t2 & 12250000 & 8960 & 4 & 4 & 4 & yes & no  & no  & no & yes & 3 & no  & furnished     \\\\\n",
       "\t3 & 12250000 & 9960 & 3 & 2 & 2 & yes & no  & yes & no & no  & 2 & yes & semi-furnished\\\\\n",
       "\t4 & 12215000 & 7500 & 4 & 2 & 2 & yes & no  & yes & no & yes & 3 & yes & furnished     \\\\\n",
       "\t5 & 11410000 & 7420 & 4 & 1 & 2 & yes & yes & yes & no & yes & 2 & no  & furnished     \\\\\n",
       "\t6 & 10850000 & 7500 & 3 & 3 & 1 & yes & no  & yes & no & yes & 2 & yes & semi-furnished\\\\\n",
       "\\end{tabular}\n"
      ],
      "text/markdown": [
       "\n",
       "A data.frame: 6 × 13\n",
       "\n",
       "| <!--/--> | price &lt;int&gt; | area &lt;int&gt; | bedrooms &lt;int&gt; | bathrooms &lt;int&gt; | stories &lt;int&gt; | mainroad &lt;chr&gt; | guestroom &lt;chr&gt; | basement &lt;chr&gt; | hotwaterheating &lt;chr&gt; | airconditioning &lt;chr&gt; | parking &lt;int&gt; | prefarea &lt;chr&gt; | furnishingstatus &lt;chr&gt; |\n",
       "|---|---|---|---|---|---|---|---|---|---|---|---|---|---|\n",
       "| 1 | 13300000 | 7420 | 4 | 2 | 3 | yes | no  | no  | no | yes | 2 | yes | furnished      |\n",
       "| 2 | 12250000 | 8960 | 4 | 4 | 4 | yes | no  | no  | no | yes | 3 | no  | furnished      |\n",
       "| 3 | 12250000 | 9960 | 3 | 2 | 2 | yes | no  | yes | no | no  | 2 | yes | semi-furnished |\n",
       "| 4 | 12215000 | 7500 | 4 | 2 | 2 | yes | no  | yes | no | yes | 3 | yes | furnished      |\n",
       "| 5 | 11410000 | 7420 | 4 | 1 | 2 | yes | yes | yes | no | yes | 2 | no  | furnished      |\n",
       "| 6 | 10850000 | 7500 | 3 | 3 | 1 | yes | no  | yes | no | yes | 2 | yes | semi-furnished |\n",
       "\n"
      ],
      "text/plain": [
       "  price    area bedrooms bathrooms stories mainroad guestroom basement\n",
       "1 13300000 7420 4        2         3       yes      no        no      \n",
       "2 12250000 8960 4        4         4       yes      no        no      \n",
       "3 12250000 9960 3        2         2       yes      no        yes     \n",
       "4 12215000 7500 4        2         2       yes      no        yes     \n",
       "5 11410000 7420 4        1         2       yes      yes       yes     \n",
       "6 10850000 7500 3        3         1       yes      no        yes     \n",
       "  hotwaterheating airconditioning parking prefarea furnishingstatus\n",
       "1 no              yes             2       yes      furnished       \n",
       "2 no              yes             3       no       furnished       \n",
       "3 no              no              2       yes      semi-furnished  \n",
       "4 no              yes             3       yes      furnished       \n",
       "5 no              yes             2       no       furnished       \n",
       "6 no              yes             2       yes      semi-furnished  "
      ]
     },
     "metadata": {},
     "output_type": "display_data"
    }
   ],
   "source": [
    "\n",
    "# Arrange the dataset by price in descending order\n",
    "sorted_data <- arrange(housing_data, desc(price))\n",
    "head(sorted_data)\n"
   ]
  },
  {
   "cell_type": "markdown",
   "id": "2aeecb7b",
   "metadata": {},
   "source": [
    "We use `arrange()` to sort the dataset by the 'price' column in descending order."
   ]
  },
  {
   "cell_type": "markdown",
   "id": "301f7725",
   "metadata": {},
   "source": [
    "## 9. Creating a New Variable"
   ]
  },
  {
   "cell_type": "code",
   "execution_count": 9,
   "id": "dbce6546",
   "metadata": {},
   "outputs": [
    {
     "data": {
      "text/html": [
       "<table class=\"dataframe\">\n",
       "<caption>A data.frame: 6 × 14</caption>\n",
       "<thead>\n",
       "\t<tr><th></th><th scope=col>price</th><th scope=col>area</th><th scope=col>bedrooms</th><th scope=col>bathrooms</th><th scope=col>stories</th><th scope=col>mainroad</th><th scope=col>guestroom</th><th scope=col>basement</th><th scope=col>hotwaterheating</th><th scope=col>airconditioning</th><th scope=col>parking</th><th scope=col>prefarea</th><th scope=col>furnishingstatus</th><th scope=col>price_per_sqft</th></tr>\n",
       "\t<tr><th></th><th scope=col>&lt;int&gt;</th><th scope=col>&lt;int&gt;</th><th scope=col>&lt;int&gt;</th><th scope=col>&lt;int&gt;</th><th scope=col>&lt;int&gt;</th><th scope=col>&lt;chr&gt;</th><th scope=col>&lt;chr&gt;</th><th scope=col>&lt;chr&gt;</th><th scope=col>&lt;chr&gt;</th><th scope=col>&lt;chr&gt;</th><th scope=col>&lt;int&gt;</th><th scope=col>&lt;chr&gt;</th><th scope=col>&lt;chr&gt;</th><th scope=col>&lt;dbl&gt;</th></tr>\n",
       "</thead>\n",
       "<tbody>\n",
       "\t<tr><th scope=row>1</th><td>13300000</td><td>7420</td><td>4</td><td>2</td><td>3</td><td>yes</td><td>no </td><td>no </td><td>no</td><td>yes</td><td>2</td><td>yes</td><td>furnished     </td><td>1792.453</td></tr>\n",
       "\t<tr><th scope=row>2</th><td>12250000</td><td>8960</td><td>4</td><td>4</td><td>4</td><td>yes</td><td>no </td><td>no </td><td>no</td><td>yes</td><td>3</td><td>no </td><td>furnished     </td><td>1367.188</td></tr>\n",
       "\t<tr><th scope=row>3</th><td>12250000</td><td>9960</td><td>3</td><td>2</td><td>2</td><td>yes</td><td>no </td><td>yes</td><td>no</td><td>no </td><td>2</td><td>yes</td><td>semi-furnished</td><td>1229.920</td></tr>\n",
       "\t<tr><th scope=row>4</th><td>12215000</td><td>7500</td><td>4</td><td>2</td><td>2</td><td>yes</td><td>no </td><td>yes</td><td>no</td><td>yes</td><td>3</td><td>yes</td><td>furnished     </td><td>1628.667</td></tr>\n",
       "\t<tr><th scope=row>5</th><td>11410000</td><td>7420</td><td>4</td><td>1</td><td>2</td><td>yes</td><td>yes</td><td>yes</td><td>no</td><td>yes</td><td>2</td><td>no </td><td>furnished     </td><td>1537.736</td></tr>\n",
       "\t<tr><th scope=row>6</th><td>10850000</td><td>7500</td><td>3</td><td>3</td><td>1</td><td>yes</td><td>no </td><td>yes</td><td>no</td><td>yes</td><td>2</td><td>yes</td><td>semi-furnished</td><td>1446.667</td></tr>\n",
       "</tbody>\n",
       "</table>\n"
      ],
      "text/latex": [
       "A data.frame: 6 × 14\n",
       "\\begin{tabular}{r|llllllllllllll}\n",
       "  & price & area & bedrooms & bathrooms & stories & mainroad & guestroom & basement & hotwaterheating & airconditioning & parking & prefarea & furnishingstatus & price\\_per\\_sqft\\\\\n",
       "  & <int> & <int> & <int> & <int> & <int> & <chr> & <chr> & <chr> & <chr> & <chr> & <int> & <chr> & <chr> & <dbl>\\\\\n",
       "\\hline\n",
       "\t1 & 13300000 & 7420 & 4 & 2 & 3 & yes & no  & no  & no & yes & 2 & yes & furnished      & 1792.453\\\\\n",
       "\t2 & 12250000 & 8960 & 4 & 4 & 4 & yes & no  & no  & no & yes & 3 & no  & furnished      & 1367.188\\\\\n",
       "\t3 & 12250000 & 9960 & 3 & 2 & 2 & yes & no  & yes & no & no  & 2 & yes & semi-furnished & 1229.920\\\\\n",
       "\t4 & 12215000 & 7500 & 4 & 2 & 2 & yes & no  & yes & no & yes & 3 & yes & furnished      & 1628.667\\\\\n",
       "\t5 & 11410000 & 7420 & 4 & 1 & 2 & yes & yes & yes & no & yes & 2 & no  & furnished      & 1537.736\\\\\n",
       "\t6 & 10850000 & 7500 & 3 & 3 & 1 & yes & no  & yes & no & yes & 2 & yes & semi-furnished & 1446.667\\\\\n",
       "\\end{tabular}\n"
      ],
      "text/markdown": [
       "\n",
       "A data.frame: 6 × 14\n",
       "\n",
       "| <!--/--> | price &lt;int&gt; | area &lt;int&gt; | bedrooms &lt;int&gt; | bathrooms &lt;int&gt; | stories &lt;int&gt; | mainroad &lt;chr&gt; | guestroom &lt;chr&gt; | basement &lt;chr&gt; | hotwaterheating &lt;chr&gt; | airconditioning &lt;chr&gt; | parking &lt;int&gt; | prefarea &lt;chr&gt; | furnishingstatus &lt;chr&gt; | price_per_sqft &lt;dbl&gt; |\n",
       "|---|---|---|---|---|---|---|---|---|---|---|---|---|---|---|\n",
       "| 1 | 13300000 | 7420 | 4 | 2 | 3 | yes | no  | no  | no | yes | 2 | yes | furnished      | 1792.453 |\n",
       "| 2 | 12250000 | 8960 | 4 | 4 | 4 | yes | no  | no  | no | yes | 3 | no  | furnished      | 1367.188 |\n",
       "| 3 | 12250000 | 9960 | 3 | 2 | 2 | yes | no  | yes | no | no  | 2 | yes | semi-furnished | 1229.920 |\n",
       "| 4 | 12215000 | 7500 | 4 | 2 | 2 | yes | no  | yes | no | yes | 3 | yes | furnished      | 1628.667 |\n",
       "| 5 | 11410000 | 7420 | 4 | 1 | 2 | yes | yes | yes | no | yes | 2 | no  | furnished      | 1537.736 |\n",
       "| 6 | 10850000 | 7500 | 3 | 3 | 1 | yes | no  | yes | no | yes | 2 | yes | semi-furnished | 1446.667 |\n",
       "\n"
      ],
      "text/plain": [
       "  price    area bedrooms bathrooms stories mainroad guestroom basement\n",
       "1 13300000 7420 4        2         3       yes      no        no      \n",
       "2 12250000 8960 4        4         4       yes      no        no      \n",
       "3 12250000 9960 3        2         2       yes      no        yes     \n",
       "4 12215000 7500 4        2         2       yes      no        yes     \n",
       "5 11410000 7420 4        1         2       yes      yes       yes     \n",
       "6 10850000 7500 3        3         1       yes      no        yes     \n",
       "  hotwaterheating airconditioning parking prefarea furnishingstatus\n",
       "1 no              yes             2       yes      furnished       \n",
       "2 no              yes             3       no       furnished       \n",
       "3 no              no              2       yes      semi-furnished  \n",
       "4 no              yes             3       yes      furnished       \n",
       "5 no              yes             2       no       furnished       \n",
       "6 no              yes             2       yes      semi-furnished  \n",
       "  price_per_sqft\n",
       "1 1792.453      \n",
       "2 1367.188      \n",
       "3 1229.920      \n",
       "4 1628.667      \n",
       "5 1537.736      \n",
       "6 1446.667      "
      ]
     },
     "metadata": {},
     "output_type": "display_data"
    }
   ],
   "source": [
    "\n",
    "# Create a new variable 'price_per_sqft' as price divided by area\n",
    "housing_data <- mutate(housing_data, price_per_sqft = price / area)\n",
    "head(housing_data)\n"
   ]
  },
  {
   "cell_type": "markdown",
   "id": "ad9d0685",
   "metadata": {},
   "source": [
    "We create a new variable 'price_per_sqft' by dividing the price of the house by its area."
   ]
  },
  {
   "cell_type": "markdown",
   "id": "8a674a73",
   "metadata": {},
   "source": [
    "## 10. Combining dplyr and ggplot2"
   ]
  },
  {
   "cell_type": "code",
   "execution_count": 10,
   "id": "3a72eb08",
   "metadata": {},
   "outputs": [
    {
     "data": {
      "image/png": "[encoded data removed]",
      "text/plain": [
       "plot without title"
      ]
     },
     "metadata": {
      "image/png": {
       "height": 420,
       "width": 420
      }
     },
     "output_type": "display_data"
    }
   ],
   "source": [
    "\n",
    "# Preprocess data and create a grouped bar plot\n",
    "housing_data %>%\n",
    "  group_by(furnishingstatus) %>%\n",
    "  summarize(mean_price = mean(price)) %>%\n",
    "  ggplot(aes(x=furnishingstatus, y=mean_price, fill=furnishingstatus)) +\n",
    "  geom_bar(stat=\"identity\") +\n",
    "  labs(title=\"Mean Price by Furnishing Status\", x=\"Furnishing Status\", y=\"Mean Price\")\n"
   ]
  },
  {
   "cell_type": "markdown",
   "id": "35628048",
   "metadata": {},
   "source": [
    "We combine `dplyr` and `ggplot2` to create a grouped bar plot showing the mean price across different furnishing statuses."
   ]
  }
 ],
 "metadata": {
  "kernelspec": {
   "display_name": "R",
   "language": "R",
   "name": "ir"
  },
  "language_info": {
   "codemirror_mode": "r",
   "file_extension": ".r",
   "mimetype": "text/x-r-source",
   "name": "R",
   "pygments_lexer": "r",
   "version": "4.3.1"
  }
 },
 "nbformat": 4,
 "nbformat_minor": 5
}
